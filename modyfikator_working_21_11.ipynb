{
 "cells": [
  {
   "cell_type": "code",
   "execution_count": null,
   "metadata": {},
   "outputs": [],
   "source": [
    "import pandas as pd\n",
    "import os\n",
    "\n",
    "# Specify the directory where the input files are located\n",
    "input_directory = '/mnt/c/Users/myckf/OneDrive/Dokumenty/Documents/franek-personal/studia/fizyka/kawa/channel_code/'\n",
    "\n",
    "# Specify the output directory for modified files\n",
    "output_directory = os.path.join(input_directory, 'data_modded')\n",
    "\n",
    "# Loop through the files from cof_mass1 to cof_mass16\n",
    "\n",
    "input_filename = os.path.join(input_directory, f'epsilon.csv')\n",
    "output_filename = os.path.join(output_directory, f'modified_epsilon.csv')\n",
    "\n",
    "# Load the data from the CSV file using commas as the delimiter\n",
    "df = pd.read_csv(input_filename, sep=',', header=None)\n",
    "\n",
    "# Assuming pressure is the fifth column (index 4)\n",
    "pressure_column = df.iloc[:, 3]\n",
    "\n",
    "# Convert pressure column to numeric values\n",
    "pressure_column = pd.to_numeric(pressure_column, errors='coerce')\n",
    "# Find the index of the first occurrence of 596.5\n",
    "indices_above_596 = pressure_column[pressure_column >= 596.5].index\n",
    "if len(indices_above_596) == 0:\n",
    "    print(f\"No pressure values above 596.5 found in {input_filename}.\")\n",
    "else:\n",
    "    index_to_shift = indices_above_596[0]\n",
    "    time_to_shift = df.at[index_to_shift, 0]\n",
    "    # Modify the time column for all occurrences of 596.5\n",
    "    df.iloc[:, 0] = df.iloc[:, 0] - time_to_shift\n",
    "    # Remove rows where modified time is less than 0\n",
    "    df = df[df.iloc[:, 0] >= 0]\n",
    "    # Save the modified data to the \"data_modded\" folder\n",
    "    df.to_csv(output_filename, sep=',', index=False, header=None)\n",
    "\n",
    "    print(f\"Modified data saved to {output_filename}.\")\n"
   ]
  }
 ],
 "metadata": {
  "language_info": {
   "name": "python"
  }
 },
 "nbformat": 4,
 "nbformat_minor": 2
}
